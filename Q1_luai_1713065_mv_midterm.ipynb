{
  "nbformat": 4,
  "nbformat_minor": 0,
  "metadata": {
    "colab": {
      "provenance": []
    },
    "kernelspec": {
      "name": "python3",
      "display_name": "Python 3"
    },
    "language_info": {
      "name": "python"
    }
  },
  "cells": [
    {
      "cell_type": "code",
      "execution_count": null,
      "metadata": {
        "id": "PHJ8NSv06ynC"
      },
      "outputs": [],
      "source": []
    },
    {
      "cell_type": "markdown",
      "source": [
        "the answer for question one \n",
        "a. Let k, s and p be 4, 2 and 1, respectively. What will be the shape of the output of the convolutional layer? (2 marks)\n",
        "\n",
        "import torch\n",
        "import torch.nn as nn\n",
        "input_img = torch.rand(1,3,10,10)\n",
        "layer = nn.Conv2d(in_channels=3, out_channels=12, kernel_size=k, stride=s, padding=p)\n",
        "\n",
        "answer: The shape of the output is ..[1,12,5,5]...\n",
        "\n",
        "\n",
        "b. Batch Normalization (BN) normalizes the mean and standard deviation for each: (tick X for the correct answer) (2 marks) \n",
        "\n",
        "answer is Individual feature map\n",
        "\n",
        "\n",
        "c.  Which one of the following is not an advantage of Batch Normalization (BN)? (tick X for the correct answer) (2 marks)\n",
        "\n",
        "answer is  BN needs a much slower learning rate for the total architecture to converge.\n",
        "\n",
        "d.  Choose the correct statement. (tick X for the correct answer) (2 marks) \n",
        "\n",
        "answer is A larger kernel is preferred for information that resides globally, and a smaller kernel is preferred for information that is distributed locally.\n",
        "\n",
        "e.n the following network, how many learnable parameters (weights) are there? (2 marks)\n",
        "\n",
        "answer There are .(20)... learnable parameters for the wieght and 120 for overall\n",
        "\n",
        "f.Which of the following statements are true about deep neural networks? (tick X for the correct answer) (2 marks)\n",
        "\n",
        "answer are 1.Deep neural networks usually require a big amount of data to be properly trained.\n",
        "            \n",
        "           \n",
        "\n",
        "g.Can this data be correctly separable using the classifier below? Why? (3 marks)\n",
        "\n",
        "model = nn.Sequential(\n",
        "nn.Linear(n_input_dim, n_output),\n",
        "nn.Sigmoid()\n",
        ") \n",
        "\n",
        "answer is no because the classifier cant seperate these data appropriately\n",
        "\n",
        "\n"
      ],
      "metadata": {
        "id": "O5Iih14764pI"
      }
    }
  ]
}